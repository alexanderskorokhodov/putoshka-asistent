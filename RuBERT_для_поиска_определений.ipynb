{
 "cells": [
  {
   "cell_type": "markdown",
   "id": "9ZlOSgUUnKEx",
   "metadata": {
    "id": "9ZlOSgUUnKEx"
   },
   "source": [
    "# Создание датасета\n"
   ]
  },
  {
   "cell_type": "code",
   "execution_count": 1,
   "id": "d8VWTqkP6YoJ",
   "metadata": {
    "colab": {
     "base_uri": "https://localhost:8080/"
    },
    "id": "d8VWTqkP6YoJ",
    "outputId": "c373b716-a30b-4302-8437-2651eadab14e"
   },
   "outputs": [
    {
     "name": "stdout",
     "output_type": "stream",
     "text": [
      "Mounted at /content/drive\n"
     ]
    }
   ],
   "source": [
    "from google.colab import drive\n",
    "drive.mount('/content/drive')"
   ]
  },
  {
   "cell_type": "code",
   "execution_count": 4,
   "id": "NgS98nO8miKg",
   "metadata": {
    "id": "NgS98nO8miKg"
   },
   "outputs": [],
   "source": [
    "import pickle\n",
    "\n",
    "with open('/content/drive/MyDrive/hack/metrikc_data_for_definition_main.pkl', 'rb') as f:\n",
    "    metrikc_data_for_definition_main = pickle.load(f)\n",
    "\n",
    "with open('/content/drive/MyDrive/hack/train_data_for_definition_main.pkl', 'rb') as f:\n",
    "    train_data_for_definition_main = pickle.load(f)"
   ]
  },
  {
   "cell_type": "markdown",
   "id": "KYteLKmUmqBW",
   "metadata": {
    "id": "KYteLKmUmqBW"
   },
   "source": [
    "# Список с датасетом"
   ]
  },
  {
   "cell_type": "code",
   "execution_count": 5,
   "id": "_bnYJD166I8I",
   "metadata": {
    "colab": {
     "base_uri": "https://localhost:8080/"
    },
    "id": "_bnYJD166I8I",
    "outputId": "f2312b9b-037f-4610-b63d-f3b4f6e71096"
   },
   "outputs": [
    {
     "data": {
      "text/plain": [
       "0"
      ]
     },
     "execution_count": 5,
     "metadata": {},
     "output_type": "execute_result"
    }
   ],
   "source": [
    "metrikc_data_for_definition_main[0]"
   ]
  },
  {
   "cell_type": "code",
   "execution_count": 6,
   "id": "nTb9wChP7bgq",
   "metadata": {
    "colab": {
     "base_uri": "https://localhost:8080/"
    },
    "id": "nTb9wChP7bgq",
    "outputId": "08c4abfd-de6f-4bec-caa1-304422833a4b"
   },
   "outputs": [
    {
     "data": {
      "text/plain": [
       "3417"
      ]
     },
     "execution_count": 6,
     "metadata": {},
     "output_type": "execute_result"
    }
   ],
   "source": [
    "metrikc_data_for_definition_main.count(0)"
   ]
  },
  {
   "cell_type": "code",
   "execution_count": 7,
   "id": "N5k4akxl6yAR",
   "metadata": {
    "colab": {
     "base_uri": "https://localhost:8080/",
     "height": 36
    },
    "id": "N5k4akxl6yAR",
    "outputId": "cdc08bc6-b0d1-40b5-95d2-5c648bd61b6d"
   },
   "outputs": [
    {
     "data": {
      "application/vnd.google.colaboratory.intrinsic+json": {
       "type": "string"
      },
      "text/plain": [
       "' Друзья, привет!'"
      ]
     },
     "execution_count": 7,
     "metadata": {},
     "output_type": "execute_result"
    }
   ],
   "source": [
    "train_data_for_definition_main[0]"
   ]
  },
  {
   "cell_type": "markdown",
   "id": "cDaoKdagm0LG",
   "metadata": {
    "id": "cDaoKdagm0LG"
   },
   "source": [
    "# Обработка датасетов\n"
   ]
  },
  {
   "cell_type": "code",
   "execution_count": 17,
   "id": "eBcirf2W4kSh",
   "metadata": {
    "colab": {
     "base_uri": "https://localhost:8080/",
     "height": 452
    },
    "id": "eBcirf2W4kSh",
    "outputId": "e732cb88-aaa3-44b8-a66c-46c9e6fd9f2f"
   },
   "outputs": [
    {
     "data": {
      "image/png": "[encoded data removed]",
      "text/plain": [
       "<Figure size 640x480 with 1 Axes>"
      ]
     },
     "metadata": {},
     "output_type": "display_data"
    }
   ],
   "source": [
    "import matplotlib.pyplot as plt\n",
    "import seaborn as sns\n",
    "import pandas as pd\n",
    "\n",
    "df = pd.DataFrame({'Class': ['Не определение', 'Определение'],\n",
    "                   'Number of sentences':[metrikc_data_for_definition_main.count(0),metrikc_data_for_definition_main.count(1)]})\n",
    "df.plot.barh(x='Class', y='Number of sentences',\n",
    "             title='Распределение', color='green')\n",
    "plt.show()"
   ]
  },
  {
   "cell_type": "code",
   "execution_count": 8,
   "id": "a436a33e-d195-493f-8d4d-731993d73467",
   "metadata": {
    "execution": {
     "iopub.execute_input": "2023-11-24T09:08:38.905612Z",
     "iopub.status.busy": "2023-11-24T09:08:38.904995Z",
     "iopub.status.idle": "2023-11-24T09:08:38.918878Z",
     "shell.execute_reply": "2023-11-24T09:08:38.917682Z",
     "shell.execute_reply.started": "2023-11-24T09:08:38.905578Z"
    },
    "id": "a436a33e-d195-493f-8d4d-731993d73467",
    "tags": []
   },
   "outputs": [],
   "source": [
    "import tensorflow as tf\n",
    "from sklearn.model_selection import train_test_split\n",
    "\n",
    "y = tf.keras.utils.to_categorical(metrikc_data_for_definition_main, num_classes=2)\n",
    "x_train, x_test, y_train, y_test = train_test_split(train_data_for_definition_main,metrikc_data_for_definition_main,test_size=0.15,shuffle = True)"
   ]
  },
  {
   "cell_type": "code",
   "execution_count": 19,
   "id": "a15a5f94-bcf8-4971-aeab-cfbcaffb3f6e",
   "metadata": {
    "colab": {
     "base_uri": "https://localhost:8080/"
    },
    "execution": {
     "iopub.execute_input": "2023-11-24T09:08:41.495657Z",
     "iopub.status.busy": "2023-11-24T09:08:41.495084Z",
     "iopub.status.idle": "2023-11-24T09:08:41.508739Z",
     "shell.execute_reply": "2023-11-24T09:08:41.507753Z",
     "shell.execute_reply.started": "2023-11-24T09:08:41.495633Z"
    },
    "id": "a15a5f94-bcf8-4971-aeab-cfbcaffb3f6e",
    "outputId": "a72f17d9-ab34-495f-b576-eb2d2069bf3c",
    "tags": []
   },
   "outputs": [
    {
     "data": {
      "text/plain": [
       "(3611, 3611, 3069, 542, 3069, 542)"
      ]
     },
     "execution_count": 19,
     "metadata": {},
     "output_type": "execute_result"
    }
   ],
   "source": [
    "# Check the lengths\n",
    "len(train_data_for_definition_main),len(metrikc_data_for_definition_main),len(x_train), len(x_test), len(y_train), len(y_test)"
   ]
  },
  {
   "cell_type": "code",
   "execution_count": 20,
   "id": "128d66ae-5c9e-455d-add3-6f83b5156747",
   "metadata": {
    "colab": {
     "base_uri": "https://localhost:8080/"
    },
    "execution": {
     "iopub.execute_input": "2023-11-24T09:08:43.422300Z",
     "iopub.status.busy": "2023-11-24T09:08:43.421727Z",
     "iopub.status.idle": "2023-11-24T09:08:43.437417Z",
     "shell.execute_reply": "2023-11-24T09:08:43.436876Z",
     "shell.execute_reply.started": "2023-11-24T09:08:43.422273Z"
    },
    "id": "128d66ae-5c9e-455d-add3-6f83b5156747",
    "outputId": "1736592c-3706-408c-83f0-09a1fbf9d6d0",
    "tags": []
   },
   "outputs": [
    {
     "data": {
      "text/plain": [
       "(['По идее, у нас должно вывесться hello, потом 123, и то, что мы введем с командной строки.',\n",
       "  'Эти значения могут быть целочисленными, строковыми, а также хранить в себе и более сложные объекты.',\n",
       "  'И в заключение давайте еще расскажу про Python-консоль в IDE-PHR.',\n",
       "  'Где третий?',\n",
       "  ' Итак, друзья, мы настроили окружение, вспомнили базовые термины.',\n",
       "  ' Друзья, перед тем, как порешать конкретные задачки на обработку массивов, давайте обсудим еще такой вопрос, как применимость знаний о массивах, ну и в целом навыков программирования на конкретных специальностях.',\n",
       "  'Итак, наш с вами блок-хеддер.',\n",
       "  'Друзья, как вы думаете, какой тип алгоритма здесь нам поможет?',\n",
       "  'Мы не обнулили отступы в принципе.',\n",
       "  'Но вот это вот дублирование или это называется вложенностью, это плохо.'],\n",
       " [0, 1, 0, 0, 0, 0, 0, 0, 0, 0])"
      ]
     },
     "execution_count": 20,
     "metadata": {},
     "output_type": "execute_result"
    }
   ],
   "source": [
    "# View the first 10 training titles and their labels\n",
    "x_train[:10], y_train[:10]"
   ]
  },
  {
   "cell_type": "code",
   "execution_count": 11,
   "id": "f7b22d82-268d-46a5-bcdd-3c50f62f9c31",
   "metadata": {
    "colab": {
     "base_uri": "https://localhost:8080/"
    },
    "collapsed": true,
    "execution": {
     "iopub.execute_input": "2023-11-24T08:08:50.521185Z",
     "iopub.status.busy": "2023-11-24T08:08:50.520627Z",
     "iopub.status.idle": "2023-11-24T08:10:39.737811Z",
     "shell.execute_reply": "2023-11-24T08:10:39.736418Z",
     "shell.execute_reply.started": "2023-11-24T08:08:50.521161Z"
    },
    "id": "f7b22d82-268d-46a5-bcdd-3c50f62f9c31",
    "jupyter": {
     "outputs_hidden": true
    },
    "outputId": "102693a3-4f67-442e-88d3-6332742e5730",
    "tags": []
   },
   "outputs": [
    {
     "name": "stdout",
     "output_type": "stream",
     "text": [
      "Requirement already satisfied: datasets in /usr/local/lib/python3.10/dist-packages (2.15.0)\n",
      "Requirement already satisfied: numpy>=1.17 in /usr/local/lib/python3.10/dist-packages (from datasets) (1.23.5)\n",
      "Requirement already satisfied: pyarrow>=8.0.0 in /usr/local/lib/python3.10/dist-packages (from datasets) (9.0.0)\n",
      "Requirement already satisfied: pyarrow-hotfix in /usr/local/lib/python3.10/dist-packages (from datasets) (0.6)\n",
      "Requirement already satisfied: dill<0.3.8,>=0.3.0 in /usr/local/lib/python3.10/dist-packages (from datasets) (0.3.7)\n",
      "Requirement already satisfied: pandas in /usr/local/lib/python3.10/dist-packages (from datasets) (1.5.3)\n",
      "Requirement already satisfied: requests>=2.19.0 in /usr/local/lib/python3.10/dist-packages (from datasets) (2.31.0)\n",
      "Requirement already satisfied: tqdm>=4.62.1 in /usr/local/lib/python3.10/dist-packages (from datasets) (4.66.1)\n",
      "Requirement already satisfied: xxhash in /usr/local/lib/python3.10/dist-packages (from datasets) (3.4.1)\n",
      "Requirement already satisfied: multiprocess in /usr/local/lib/python3.10/dist-packages (from datasets) (0.70.15)\n",
      "Requirement already satisfied: fsspec[http]<=2023.10.0,>=2023.1.0 in /usr/local/lib/python3.10/dist-packages (from datasets) (2023.6.0)\n",
      "Requirement already satisfied: aiohttp in /usr/local/lib/python3.10/dist-packages (from datasets) (3.8.6)\n",
      "Requirement already satisfied: huggingface-hub>=0.18.0 in /usr/local/lib/python3.10/dist-packages (from datasets) (0.19.4)\n",
      "Requirement already satisfied: packaging in /usr/local/lib/python3.10/dist-packages (from datasets) (23.2)\n",
      "Requirement already satisfied: pyyaml>=5.1 in /usr/local/lib/python3.10/dist-packages (from datasets) (6.0.1)\n",
      "Requirement already satisfied: attrs>=17.3.0 in /usr/local/lib/python3.10/dist-packages (from aiohttp->datasets) (23.1.0)\n",
      "Requirement already satisfied: charset-normalizer<4.0,>=2.0 in /usr/local/lib/python3.10/dist-packages (from aiohttp->datasets) (3.3.2)\n",
      "Requirement already satisfied: multidict<7.0,>=4.5 in /usr/local/lib/python3.10/dist-packages (from aiohttp->datasets) (6.0.4)\n",
      "Requirement already satisfied: async-timeout<5.0,>=4.0.0a3 in /usr/local/lib/python3.10/dist-packages (from aiohttp->datasets) (4.0.3)\n",
      "Requirement already satisfied: yarl<2.0,>=1.0 in /usr/local/lib/python3.10/dist-packages (from aiohttp->datasets) (1.9.2)\n",
      "Requirement already satisfied: frozenlist>=1.1.1 in /usr/local/lib/python3.10/dist-packages (from aiohttp->datasets) (1.4.0)\n",
      "Requirement already satisfied: aiosignal>=1.1.2 in /usr/local/lib/python3.10/dist-packages (from aiohttp->datasets) (1.3.1)\n",
      "Requirement already satisfied: filelock in /usr/local/lib/python3.10/dist-packages (from huggingface-hub>=0.18.0->datasets) (3.13.1)\n",
      "Requirement already satisfied: typing-extensions>=3.7.4.3 in /usr/local/lib/python3.10/dist-packages (from huggingface-hub>=0.18.0->datasets) (4.5.0)\n",
      "Requirement already satisfied: idna<4,>=2.5 in /usr/local/lib/python3.10/dist-packages (from requests>=2.19.0->datasets) (3.4)\n",
      "Requirement already satisfied: urllib3<3,>=1.21.1 in /usr/local/lib/python3.10/dist-packages (from requests>=2.19.0->datasets) (2.0.7)\n",
      "Requirement already satisfied: certifi>=2017.4.17 in /usr/local/lib/python3.10/dist-packages (from requests>=2.19.0->datasets) (2023.7.22)\n",
      "Requirement already satisfied: python-dateutil>=2.8.1 in /usr/local/lib/python3.10/dist-packages (from pandas->datasets) (2.8.2)\n",
      "Requirement already satisfied: pytz>=2020.1 in /usr/local/lib/python3.10/dist-packages (from pandas->datasets) (2023.3.post1)\n",
      "Requirement already satisfied: six>=1.5 in /usr/local/lib/python3.10/dist-packages (from python-dateutil>=2.8.1->pandas->datasets) (1.16.0)\n"
     ]
    }
   ],
   "source": [
    "%pip install datasets"
   ]
  },
  {
   "cell_type": "code",
   "execution_count": 21,
   "id": "a184aeb3-e9a2-42c0-84b5-174918985fa5",
   "metadata": {
    "execution": {
     "iopub.execute_input": "2023-11-24T08:08:23.713872Z",
     "iopub.status.busy": "2023-11-24T08:08:23.713296Z",
     "iopub.status.idle": "2023-11-24T08:08:23.746745Z",
     "shell.execute_reply": "2023-11-24T08:08:23.745994Z",
     "shell.execute_reply.started": "2023-11-24T08:08:23.713845Z"
    },
    "id": "a184aeb3-e9a2-42c0-84b5-174918985fa5",
    "tags": []
   },
   "outputs": [],
   "source": [
    "import pandas as pd\n",
    "import numpy as np\n",
    "import random\n",
    "import torch\n",
    "import transformers\n",
    "import torch.nn as nn\n",
    "from transformers import AutoModel, BertTokenizer, BertForSequenceClassification\n",
    "from transformers import TrainingArguments, Trainer\n",
    "from sklearn.metrics import classification_report, f1_score"
   ]
  },
  {
   "cell_type": "code",
   "execution_count": 13,
   "id": "d6VR9Tbltpt1",
   "metadata": {
    "id": "d6VR9Tbltpt1"
   },
   "outputs": [],
   "source": [
    "def seed_all(seed_value):\n",
    "    random.seed(seed_value)\n",
    "    np.random.seed(seed_value)\n",
    "    torch.manual_seed(seed_value)\n",
    "    if torch.cuda.is_available():\n",
    "        torch.cuda.manual_seed(seed_value)\n",
    "        torch.cuda.manual_seed_all(seed_value)\n",
    "        torch.backends.cudnn.benchmark = True\n",
    "        torch.backends.cudnn.deterministic = False\n",
    "seed_all(42)"
   ]
  },
  {
   "cell_type": "code",
   "execution_count": 14,
   "id": "031e6f54-61d3-448c-a665-422949188c82",
   "metadata": {
    "colab": {
     "base_uri": "https://localhost:8080/"
    },
    "execution": {
     "iopub.execute_input": "2023-11-24T07:08:21.810748Z",
     "iopub.status.busy": "2023-11-24T07:08:21.809276Z",
     "iopub.status.idle": "2023-11-24T07:08:21.820409Z",
     "shell.execute_reply": "2023-11-24T07:08:21.819852Z",
     "shell.execute_reply.started": "2023-11-24T07:08:21.810704Z"
    },
    "id": "031e6f54-61d3-448c-a665-422949188c82",
    "outputId": "514eecba-ca44-48b8-c193-b90f4b336558",
    "tags": []
   },
   "outputs": [
    {
     "name": "stderr",
     "output_type": "stream",
     "text": [
      "Some weights of BertForSequenceClassification were not initialized from the model checkpoint at DeepPavlov/rubert-base-cased-sentence and are newly initialized: ['classifier.weight', 'classifier.bias']\n",
      "You should probably TRAIN this model on a down-stream task to be able to use it for predictions and inference.\n"
     ]
    }
   ],
   "source": [
    "model = BertForSequenceClassification.from_pretrained('DeepPavlov/rubert-base-cased-sentence', num_labels=2)\n",
    "tokenizer = BertTokenizer.from_pretrained('DeepPavlov/rubert-base-cased-sentence')"
   ]
  },
  {
   "cell_type": "code",
   "execution_count": 15,
   "id": "4d67de68-f5ed-43a5-89c6-207ad988832b",
   "metadata": {
    "colab": {
     "base_uri": "https://localhost:8080/"
    },
    "execution": {
     "iopub.execute_input": "2023-11-24T07:08:28.974563Z",
     "iopub.status.busy": "2023-11-24T07:08:28.973997Z",
     "iopub.status.idle": "2023-11-24T07:08:29.000708Z",
     "shell.execute_reply": "2023-11-24T07:08:29.000155Z",
     "shell.execute_reply.started": "2023-11-24T07:08:28.974536Z"
    },
    "id": "4d67de68-f5ed-43a5-89c6-207ad988832b",
    "outputId": "e7bd761c-13f4-476c-9ee3-f2fbae5e4246"
   },
   "outputs": [
    {
     "data": {
      "text/plain": [
       "82"
      ]
     },
     "execution_count": 15,
     "metadata": {},
     "output_type": "execute_result"
    }
   ],
   "source": [
    "seq_len_train = [len(str(i).split()) for i in x_train]\n",
    "seq_len_test = [len(str(i).split()) for i in x_test]\n",
    "max_seq_len = max(max(seq_len_test), max(seq_len_train))\n",
    "max_seq_len"
   ]
  },
  {
   "cell_type": "code",
   "execution_count": 16,
   "id": "dM4O9IAUuKp8",
   "metadata": {
    "id": "dM4O9IAUuKp8"
   },
   "outputs": [],
   "source": [
    "tokens_train = tokenizer.batch_encode_plus(\n",
    "    x_train,\n",
    "    max_length = max_seq_len,\n",
    "    padding = 'max_length',\n",
    "    truncation = True\n",
    ")\n",
    "tokens_test = tokenizer.batch_encode_plus(\n",
    "    x_test,\n",
    "    max_length = max_seq_len,\n",
    "    padding = 'max_length',\n",
    "    truncation = True\n",
    ")\n",
    "class Data(torch.utils.data.Dataset):\n",
    "    def __init__(self, encodings, labels):\n",
    "        self.encodings = encodings\n",
    "        self.labels = labels\n",
    "\n",
    "    def __getitem__(self, idx):\n",
    "        item = {k: torch.tensor(v[idx]) for k, v in self.encodings.items()}\n",
    "        item[\"labels\"] = torch.tensor([self.labels[idx]])\n",
    "        return item\n",
    "    def __len__(self):\n",
    "        return len(self.labels)\n",
    "\n",
    "train_dataset = Data(tokens_train, y_train)\n",
    "test_dataset = Data(tokens_test, y_test)"
   ]
  },
  {
   "cell_type": "code",
   "execution_count": 26,
   "id": "5PGw0CIJvLzq",
   "metadata": {
    "id": "5PGw0CIJvLzq"
   },
   "outputs": [],
   "source": [
    "from sklearn.metrics import f1_score\n",
    "def compute_metrics(pred):\n",
    "    labels = pred.label_ids\n",
    "    preds = pred.predictions.argmax(-1)\n",
    "    s=0\n",
    "    for i in range(len(preds)):\n",
    "        if(labels[i]==1 and preds[i]==1):\n",
    "            s+=10\n",
    "        elif(labels[i]==0 and preds[i]==0):\n",
    "            s+=5\n",
    "        elif(labels[i]==0 and preds[i]==1):\n",
    "            s+=1\n",
    "        else: s+=0\n",
    "    return {'Our metrics': (s/10)/len(preds)}"
   ]
  },
  {
   "cell_type": "code",
   "execution_count": 18,
   "id": "ZMnel12Iw91b",
   "metadata": {
    "colab": {
     "base_uri": "https://localhost:8080/"
    },
    "id": "ZMnel12Iw91b",
    "outputId": "314e03f6-f33c-437d-cd32-baac61aba1a1"
   },
   "outputs": [
    {
     "name": "stdout",
     "output_type": "stream",
     "text": [
      "Requirement already satisfied: accelerate in /usr/local/lib/python3.10/dist-packages (0.24.1)\n",
      "Requirement already satisfied: numpy>=1.17 in /usr/local/lib/python3.10/dist-packages (from accelerate) (1.23.5)\n",
      "Requirement already satisfied: packaging>=20.0 in /usr/local/lib/python3.10/dist-packages (from accelerate) (23.2)\n",
      "Requirement already satisfied: psutil in /usr/local/lib/python3.10/dist-packages (from accelerate) (5.9.5)\n",
      "Requirement already satisfied: pyyaml in /usr/local/lib/python3.10/dist-packages (from accelerate) (6.0.1)\n",
      "Requirement already satisfied: torch>=1.10.0 in /usr/local/lib/python3.10/dist-packages (from accelerate) (2.1.0+cu118)\n",
      "Requirement already satisfied: huggingface-hub in /usr/local/lib/python3.10/dist-packages (from accelerate) (0.19.4)\n",
      "Requirement already satisfied: filelock in /usr/local/lib/python3.10/dist-packages (from torch>=1.10.0->accelerate) (3.13.1)\n",
      "Requirement already satisfied: typing-extensions in /usr/local/lib/python3.10/dist-packages (from torch>=1.10.0->accelerate) (4.5.0)\n",
      "Requirement already satisfied: sympy in /usr/local/lib/python3.10/dist-packages (from torch>=1.10.0->accelerate) (1.12)\n",
      "Requirement already satisfied: networkx in /usr/local/lib/python3.10/dist-packages (from torch>=1.10.0->accelerate) (3.2.1)\n",
      "Requirement already satisfied: jinja2 in /usr/local/lib/python3.10/dist-packages (from torch>=1.10.0->accelerate) (3.1.2)\n",
      "Requirement already satisfied: fsspec in /usr/local/lib/python3.10/dist-packages (from torch>=1.10.0->accelerate) (2023.6.0)\n",
      "Requirement already satisfied: triton==2.1.0 in /usr/local/lib/python3.10/dist-packages (from torch>=1.10.0->accelerate) (2.1.0)\n",
      "Requirement already satisfied: requests in /usr/local/lib/python3.10/dist-packages (from huggingface-hub->accelerate) (2.31.0)\n",
      "Requirement already satisfied: tqdm>=4.42.1 in /usr/local/lib/python3.10/dist-packages (from huggingface-hub->accelerate) (4.66.1)\n",
      "Requirement already satisfied: MarkupSafe>=2.0 in /usr/local/lib/python3.10/dist-packages (from jinja2->torch>=1.10.0->accelerate) (2.1.3)\n",
      "Requirement already satisfied: charset-normalizer<4,>=2 in /usr/local/lib/python3.10/dist-packages (from requests->huggingface-hub->accelerate) (3.3.2)\n",
      "Requirement already satisfied: idna<4,>=2.5 in /usr/local/lib/python3.10/dist-packages (from requests->huggingface-hub->accelerate) (3.4)\n",
      "Requirement already satisfied: urllib3<3,>=1.21.1 in /usr/local/lib/python3.10/dist-packages (from requests->huggingface-hub->accelerate) (2.0.7)\n",
      "Requirement already satisfied: certifi>=2017.4.17 in /usr/local/lib/python3.10/dist-packages (from requests->huggingface-hub->accelerate) (2023.7.22)\n",
      "Requirement already satisfied: mpmath>=0.19 in /usr/local/lib/python3.10/dist-packages (from sympy->torch>=1.10.0->accelerate) (1.3.0)\n",
      "Requirement already satisfied: transformers in /usr/local/lib/python3.10/dist-packages (4.35.2)\n",
      "Requirement already satisfied: filelock in /usr/local/lib/python3.10/dist-packages (from transformers) (3.13.1)\n",
      "Requirement already satisfied: huggingface-hub<1.0,>=0.16.4 in /usr/local/lib/python3.10/dist-packages (from transformers) (0.19.4)\n",
      "Requirement already satisfied: numpy>=1.17 in /usr/local/lib/python3.10/dist-packages (from transformers) (1.23.5)\n",
      "Requirement already satisfied: packaging>=20.0 in /usr/local/lib/python3.10/dist-packages (from transformers) (23.2)\n",
      "Requirement already satisfied: pyyaml>=5.1 in /usr/local/lib/python3.10/dist-packages (from transformers) (6.0.1)\n",
      "Requirement already satisfied: regex!=2019.12.17 in /usr/local/lib/python3.10/dist-packages (from transformers) (2023.6.3)\n",
      "Requirement already satisfied: requests in /usr/local/lib/python3.10/dist-packages (from transformers) (2.31.0)\n",
      "Requirement already satisfied: tokenizers<0.19,>=0.14 in /usr/local/lib/python3.10/dist-packages (from transformers) (0.15.0)\n",
      "Requirement already satisfied: safetensors>=0.3.1 in /usr/local/lib/python3.10/dist-packages (from transformers) (0.4.0)\n",
      "Requirement already satisfied: tqdm>=4.27 in /usr/local/lib/python3.10/dist-packages (from transformers) (4.66.1)\n",
      "Requirement already satisfied: fsspec>=2023.5.0 in /usr/local/lib/python3.10/dist-packages (from huggingface-hub<1.0,>=0.16.4->transformers) (2023.6.0)\n",
      "Requirement already satisfied: typing-extensions>=3.7.4.3 in /usr/local/lib/python3.10/dist-packages (from huggingface-hub<1.0,>=0.16.4->transformers) (4.5.0)\n",
      "Requirement already satisfied: charset-normalizer<4,>=2 in /usr/local/lib/python3.10/dist-packages (from requests->transformers) (3.3.2)\n",
      "Requirement already satisfied: idna<4,>=2.5 in /usr/local/lib/python3.10/dist-packages (from requests->transformers) (3.4)\n",
      "Requirement already satisfied: urllib3<3,>=1.21.1 in /usr/local/lib/python3.10/dist-packages (from requests->transformers) (2.0.7)\n",
      "Requirement already satisfied: certifi>=2017.4.17 in /usr/local/lib/python3.10/dist-packages (from requests->transformers) (2023.7.22)\n"
     ]
    }
   ],
   "source": [
    "!pip install -U accelerate\n",
    "!pip install -U transformers"
   ]
  },
  {
   "cell_type": "code",
   "execution_count": 19,
   "id": "-I5S1ZFFNQn4",
   "metadata": {
    "id": "-I5S1ZFFNQn4"
   },
   "outputs": [],
   "source": [
    "#import os\n",
    "#os._exit(00)"
   ]
  },
  {
   "cell_type": "code",
   "execution_count": 36,
   "id": "99rbvl3DvPS2",
   "metadata": {
    "id": "99rbvl3DvPS2"
   },
   "outputs": [],
   "source": [
    "training_args = TrainingArguments(\n",
    "    output_dir = './results', #Выходной каталог\n",
    "    num_train_epochs = 1, #Кол-во эпох для обучения\n",
    "    per_device_train_batch_size = 20, #Размер пакета для каждого устройства во время обучения\n",
    "    per_device_eval_batch_size = 20, #Размер пакета для каждого устройства во время валидации\n",
    "    weight_decay =0.01, #Понижение весов\n",
    "    logging_dir = './logs', #Каталог для хранения журналов\n",
    "    load_best_model_at_end = True, #Загружать ли лучшую модель после обучения\n",
    "    learning_rate = 1e-5, #Скорость обучения\n",
    "    evaluation_strategy ='epoch', #Валидация после каждой эпохи (можно сделать после конкретного кол-ва шагов)\n",
    "    logging_strategy = 'epoch', #Логирование после каждой эпохи\n",
    "    save_strategy = 'epoch', #Сохранение после каждой эпохи\n",
    "    save_total_limit = 1,\n",
    "    seed=21)"
   ]
  },
  {
   "cell_type": "code",
   "execution_count": 37,
   "id": "ozht8giuvPWU",
   "metadata": {
    "id": "ozht8giuvPWU"
   },
   "outputs": [],
   "source": [
    "trainer = Trainer(model=model,\n",
    "                  tokenizer = tokenizer,\n",
    "                  args = training_args,\n",
    "                  train_dataset = train_dataset,\n",
    "                  eval_dataset = train_dataset,\n",
    "                  compute_metrics = compute_metrics)"
   ]
  },
  {
   "cell_type": "code",
   "execution_count": 38,
   "id": "TDbFOeX9vPdB",
   "metadata": {
    "colab": {
     "base_uri": "https://localhost:8080/",
     "height": 143
    },
    "id": "TDbFOeX9vPdB",
    "outputId": "939c99bf-9fd7-403a-be02-8939498af550"
   },
   "outputs": [
    {
     "data": {
      "text/html": [
       "\n",
       "    <div>\n",
       "      \n",
       "      <progress value='154' max='154' style='width:300px; height:20px; vertical-align: middle;'></progress>\n",
       "      [154/154 01:23, Epoch 1/1]\n",
       "    </div>\n",
       "    <table border=\"1\" class=\"dataframe\">\n",
       "  <thead>\n",
       " <tr style=\"text-align: left;\">\n",
       "      <th>Epoch</th>\n",
       "      <th>Training Loss</th>\n",
       "      <th>Validation Loss</th>\n",
       "      <th>Our metrics</th>\n",
       "    </tr>\n",
       "  </thead>\n",
       "  <tbody>\n",
       "    <tr>\n",
       "      <td>1</td>\n",
       "      <td>0.000800</td>\n",
       "      <td>0.000024</td>\n",
       "      <td>0.525741</td>\n",
       "    </tr>\n",
       "  </tbody>\n",
       "</table><p>"
      ],
      "text/plain": [
       "<IPython.core.display.HTML object>"
      ]
     },
     "metadata": {},
     "output_type": "display_data"
    },
    {
     "data": {
      "text/plain": [
       "TrainOutput(global_step=154, training_loss=0.0008151630883093005, metrics={'train_runtime': 83.9075, 'train_samples_per_second': 36.576, 'train_steps_per_second': 1.835, 'total_flos': 129324222597240.0, 'train_loss': 0.0008151630883093005, 'epoch': 1.0})"
      ]
     },
     "execution_count": 38,
     "metadata": {},
     "output_type": "execute_result"
    }
   ],
   "source": [
    "trainer.train()"
   ]
  },
  {
   "cell_type": "code",
   "execution_count": 39,
   "id": "cPVerOdTvPfX",
   "metadata": {
    "colab": {
     "base_uri": "https://localhost:8080/"
    },
    "id": "cPVerOdTvPfX",
    "outputId": "d0bb2270-1942-4c75-c844-734b7cf034f9"
   },
   "outputs": [
    {
     "data": {
      "text/plain": [
       "('fine-tune-bert-for-oprs/tokenizer_config.json',\n",
       " 'fine-tune-bert-for-oprs/special_tokens_map.json',\n",
       " 'fine-tune-bert-for-oprs/vocab.txt',\n",
       " 'fine-tune-bert-for-oprs/added_tokens.json')"
      ]
     },
     "execution_count": 39,
     "metadata": {},
     "output_type": "execute_result"
    }
   ],
   "source": [
    "model_path = \"fine-tune-bert-for-oprs\"\n",
    "model.save_pretrained(model_path)\n",
    "tokenizer.save_pretrained(model_path)"
   ]
  },
  {
   "cell_type": "code",
   "execution_count": 40,
   "id": "zSuTtJmz0k7R",
   "metadata": {
    "colab": {
     "base_uri": "https://localhost:8080/",
     "height": 17
    },
    "id": "zSuTtJmz0k7R",
    "outputId": "c7d6e874-a76f-44d1-be2f-1f0e5f02b36b"
   },
   "outputs": [
    {
     "data": {
      "text/html": [],
      "text/plain": [
       "<IPython.core.display.HTML object>"
      ]
     },
     "metadata": {},
     "output_type": "display_data"
    }
   ],
   "source": [
    "def get_prediction():\n",
    "    test_pred = trainer.predict(test_dataset)\n",
    "    labels = np.argmax(test_pred.predictions, axis = -1)\n",
    "    return labels\n",
    "pred = get_prediction()"
   ]
  },
  {
   "cell_type": "code",
   "execution_count": 41,
   "id": "jJ4_1JTDrEjU",
   "metadata": {
    "colab": {
     "base_uri": "https://localhost:8080/"
    },
    "id": "jJ4_1JTDrEjU",
    "outputId": "8d4f0978-a10a-4c05-bcba-a61d0c98a843"
   },
   "outputs": [
    {
     "data": {
      "text/plain": [
       "array([0, 0, 0, 0, 0, 0, 0, 0, 0, 0, 1, 0, 0, 0, 0, 0, 0, 0, 0, 0, 0, 0,\n",
       "       0, 0, 0, 0, 0, 0, 0, 0, 0, 0, 0, 0, 0, 0, 0, 0, 0, 0, 0, 0, 0, 0,\n",
       "       0, 1, 0, 0, 0, 0, 0, 1, 0, 0, 0, 0, 0, 0, 0, 0, 0, 0, 1, 0, 0, 0,\n",
       "       0, 0, 0, 0, 0, 0, 0, 0, 0, 0, 0, 0, 0, 0, 0, 0, 0, 0, 0, 0, 0, 0,\n",
       "       0, 0, 0, 0, 0, 0, 0, 0, 0, 0, 0, 0, 0, 0, 0, 0, 0, 0, 0, 0, 0, 0,\n",
       "       0, 0, 0, 0, 0, 0, 0, 0, 1, 0, 0, 0, 0, 0, 0, 0, 0, 0, 0, 0, 0, 0,\n",
       "       0, 0, 0, 0, 0, 0, 0, 0, 0, 0, 1, 0, 0, 0, 0, 0, 0, 0, 0, 0, 1, 0,\n",
       "       0, 0, 0, 0, 0, 1, 0, 0, 0, 0, 0, 0, 0, 0, 0, 0, 0, 0, 0, 0, 0, 0,\n",
       "       0, 0, 0, 0, 1, 1, 0, 0, 0, 0, 0, 0, 1, 0, 0, 0, 0, 0, 0, 1, 0, 0,\n",
       "       1, 0, 0, 0, 0, 0, 0, 0, 0, 0, 0, 0, 0, 0, 0, 0, 1, 0, 0, 0, 0, 0,\n",
       "       0, 0, 0, 0, 0, 0, 0, 0, 0, 0, 0, 0, 0, 0, 0, 0, 0, 0, 0, 0, 0, 0,\n",
       "       0, 0, 0, 0, 0, 0, 0, 0, 0, 0, 0, 0, 0, 0, 0, 1, 1, 0, 0, 0, 0, 0,\n",
       "       0, 0, 0, 0, 0, 1, 0, 0, 0, 0, 0, 0, 0, 0, 0, 0, 0, 0, 0, 0, 0, 0,\n",
       "       0, 0, 0, 0, 0, 0, 0, 0, 0, 0, 0, 0, 0, 0, 0, 0, 1, 0, 0, 0, 0, 1,\n",
       "       0, 0, 0, 0, 0, 0, 0, 0, 0, 0, 0, 0, 0, 0, 0, 0, 0, 0, 0, 0, 0, 0,\n",
       "       0, 0, 0, 0, 0, 0, 0, 0, 0, 0, 0, 1, 0, 0, 0, 0, 1, 0, 0, 1, 0, 0,\n",
       "       0, 0, 0, 0, 0, 0, 0, 0, 0, 0, 0, 0, 1, 0, 0, 0, 0, 0, 0, 0, 0, 0,\n",
       "       0, 0, 0, 0, 0, 0, 0, 0, 0, 0, 0, 0, 0, 0, 0, 0, 0, 0, 0, 0, 0, 0,\n",
       "       0, 1, 0, 0, 0, 0, 0, 0, 0, 0, 0, 0, 0, 0, 0, 0, 0, 0, 0, 0, 0, 0,\n",
       "       0, 0, 0, 0, 0, 0, 0, 0, 0, 0, 0, 0, 1, 0, 0, 0, 0, 0, 0, 0, 0, 0,\n",
       "       0, 0, 0, 0, 0, 0, 0, 0, 0, 0, 0, 0, 0, 0, 0, 0, 0, 0, 0, 0, 0, 0,\n",
       "       0, 0, 0, 0, 0, 0, 0, 0, 0, 0, 0, 0, 0, 0, 0, 0, 0, 0, 0, 0, 0, 0,\n",
       "       0, 0, 0, 1, 0, 0, 0, 0, 0, 0, 0, 0, 0, 0, 0, 0, 0, 0, 0, 0, 0, 0,\n",
       "       0, 0, 0, 0, 0, 0, 0, 0, 0, 0, 0, 1, 0, 0, 0, 0, 0, 0, 0, 0, 0, 0,\n",
       "       0, 0, 0, 0, 0, 0, 0, 0, 0, 0, 0, 0, 0, 0])"
      ]
     },
     "execution_count": 41,
     "metadata": {},
     "output_type": "execute_result"
    }
   ],
   "source": [
    "pred"
   ]
  },
  {
   "cell_type": "code",
   "execution_count": 42,
   "id": "bvDyt-z-0nzt",
   "metadata": {
    "colab": {
     "base_uri": "https://localhost:8080/"
    },
    "id": "bvDyt-z-0nzt",
    "outputId": "9a7de877-4e16-49af-c0a7-90d4caac747d"
   },
   "outputs": [
    {
     "name": "stdout",
     "output_type": "stream",
     "text": [
      "              precision    recall  f1-score   support\n",
      "\n",
      "           0       0.98      1.00      0.99       506\n",
      "           1       0.96      0.72      0.83        36\n",
      "\n",
      "    accuracy                           0.98       542\n",
      "   macro avg       0.97      0.86      0.91       542\n",
      "weighted avg       0.98      0.98      0.98       542\n",
      "\n"
     ]
    }
   ],
   "source": [
    "print(classification_report(y_test, pred))\n",
    "# print(f1_score(y_test, pred))"
   ]
  },
  {
   "cell_type": "code",
   "execution_count": 43,
   "id": "GTyNqDjJ0qX7",
   "metadata": {
    "colab": {
     "base_uri": "https://localhost:8080/",
     "height": 36
    },
    "id": "GTyNqDjJ0qX7",
    "outputId": "07bf2f35-476e-4fe8-ad7a-61be1b89fcdd"
   },
   "outputs": [
    {
     "data": {
      "application/vnd.google.colaboratory.intrinsic+json": {
       "type": "string"
      },
      "text/plain": [
       "'/content/fine-tune-bert-for-oprs.zip'"
      ]
     },
     "execution_count": 43,
     "metadata": {},
     "output_type": "execute_result"
    }
   ],
   "source": [
    "import shutil\n",
    "shutil.make_archive(model_path, 'zip', model_path)"
   ]
  },
  {
   "cell_type": "markdown",
   "id": "h6vr-gvoTuTv",
   "metadata": {
    "id": "h6vr-gvoTuTv"
   },
   "source": [
    "# Использование модели\n"
   ]
  },
  {
   "cell_type": "code",
   "execution_count": 25,
   "id": "uq3UM_XgY41V",
   "metadata": {
    "colab": {
     "base_uri": "https://localhost:8080/"
    },
    "id": "uq3UM_XgY41V",
    "outputId": "43f14b54-e5f6-4986-ca64-a9659ae1d644"
   },
   "outputs": [
    {
     "name": "stdout",
     "output_type": "stream",
     "text": [
      "Collecting accelerate\n",
      "  Downloading accelerate-0.24.1-py3-none-any.whl (261 kB)\n",
      "\u001b[?25l     \u001b[90m━━━━━━━━━━━━━━━━━━━━━━━━━━━━━━━━━━━━━━━━\u001b[0m \u001b[32m0.0/261.4 kB\u001b[0m \u001b[31m?\u001b[0m eta \u001b[36m-:--:--\u001b[0m\r",
      "\u001b[2K     \u001b[91m━━━━━━━━━━\u001b[0m\u001b[91m╸\u001b[0m\u001b[90m━━━━━━━━━━━━━━━━━━━━━━━━━━━━━\u001b[0m \u001b[32m71.7/261.4 kB\u001b[0m \u001b[31m1.9 MB/s\u001b[0m eta \u001b[36m0:00:01\u001b[0m\r",
      "\u001b[2K     \u001b[90m━━━━━━━━━━━━━━━━━━━━━━━━━━━━━━━━━━━━━━━━\u001b[0m \u001b[32m261.4/261.4 kB\u001b[0m \u001b[31m4.6 MB/s\u001b[0m eta \u001b[36m0:00:00\u001b[0m\n",
      "\u001b[?25hRequirement already satisfied: numpy>=1.17 in /usr/local/lib/python3.10/dist-packages (from accelerate) (1.23.5)\n",
      "Requirement already satisfied: packaging>=20.0 in /usr/local/lib/python3.10/dist-packages (from accelerate) (23.2)\n",
      "Requirement already satisfied: psutil in /usr/local/lib/python3.10/dist-packages (from accelerate) (5.9.5)\n",
      "Requirement already satisfied: pyyaml in /usr/local/lib/python3.10/dist-packages (from accelerate) (6.0.1)\n",
      "Requirement already satisfied: torch>=1.10.0 in /usr/local/lib/python3.10/dist-packages (from accelerate) (2.1.0+cu118)\n",
      "Requirement already satisfied: huggingface-hub in /usr/local/lib/python3.10/dist-packages (from accelerate) (0.19.4)\n",
      "Requirement already satisfied: filelock in /usr/local/lib/python3.10/dist-packages (from torch>=1.10.0->accelerate) (3.13.1)\n",
      "Requirement already satisfied: typing-extensions in /usr/local/lib/python3.10/dist-packages (from torch>=1.10.0->accelerate) (4.5.0)\n",
      "Requirement already satisfied: sympy in /usr/local/lib/python3.10/dist-packages (from torch>=1.10.0->accelerate) (1.12)\n",
      "Requirement already satisfied: networkx in /usr/local/lib/python3.10/dist-packages (from torch>=1.10.0->accelerate) (3.2.1)\n",
      "Requirement already satisfied: jinja2 in /usr/local/lib/python3.10/dist-packages (from torch>=1.10.0->accelerate) (3.1.2)\n",
      "Requirement already satisfied: fsspec in /usr/local/lib/python3.10/dist-packages (from torch>=1.10.0->accelerate) (2023.6.0)\n",
      "Requirement already satisfied: triton==2.1.0 in /usr/local/lib/python3.10/dist-packages (from torch>=1.10.0->accelerate) (2.1.0)\n",
      "Requirement already satisfied: requests in /usr/local/lib/python3.10/dist-packages (from huggingface-hub->accelerate) (2.31.0)\n",
      "Requirement already satisfied: tqdm>=4.42.1 in /usr/local/lib/python3.10/dist-packages (from huggingface-hub->accelerate) (4.66.1)\n",
      "Requirement already satisfied: MarkupSafe>=2.0 in /usr/local/lib/python3.10/dist-packages (from jinja2->torch>=1.10.0->accelerate) (2.1.3)\n",
      "Requirement already satisfied: charset-normalizer<4,>=2 in /usr/local/lib/python3.10/dist-packages (from requests->huggingface-hub->accelerate) (3.3.2)\n",
      "Requirement already satisfied: idna<4,>=2.5 in /usr/local/lib/python3.10/dist-packages (from requests->huggingface-hub->accelerate) (3.4)\n",
      "Requirement already satisfied: urllib3<3,>=1.21.1 in /usr/local/lib/python3.10/dist-packages (from requests->huggingface-hub->accelerate) (2.0.7)\n",
      "Requirement already satisfied: certifi>=2017.4.17 in /usr/local/lib/python3.10/dist-packages (from requests->huggingface-hub->accelerate) (2023.7.22)\n",
      "Requirement already satisfied: mpmath>=0.19 in /usr/local/lib/python3.10/dist-packages (from sympy->torch>=1.10.0->accelerate) (1.3.0)\n",
      "Installing collected packages: accelerate\n",
      "Successfully installed accelerate-0.24.1\n",
      "Requirement already satisfied: transformers in /usr/local/lib/python3.10/dist-packages (4.35.2)\n",
      "Requirement already satisfied: filelock in /usr/local/lib/python3.10/dist-packages (from transformers) (3.13.1)\n",
      "Requirement already satisfied: huggingface-hub<1.0,>=0.16.4 in /usr/local/lib/python3.10/dist-packages (from transformers) (0.19.4)\n",
      "Requirement already satisfied: numpy>=1.17 in /usr/local/lib/python3.10/dist-packages (from transformers) (1.23.5)\n",
      "Requirement already satisfied: packaging>=20.0 in /usr/local/lib/python3.10/dist-packages (from transformers) (23.2)\n",
      "Requirement already satisfied: pyyaml>=5.1 in /usr/local/lib/python3.10/dist-packages (from transformers) (6.0.1)\n",
      "Requirement already satisfied: regex!=2019.12.17 in /usr/local/lib/python3.10/dist-packages (from transformers) (2023.6.3)\n",
      "Requirement already satisfied: requests in /usr/local/lib/python3.10/dist-packages (from transformers) (2.31.0)\n",
      "Requirement already satisfied: tokenizers<0.19,>=0.14 in /usr/local/lib/python3.10/dist-packages (from transformers) (0.15.0)\n",
      "Requirement already satisfied: safetensors>=0.3.1 in /usr/local/lib/python3.10/dist-packages (from transformers) (0.4.0)\n",
      "Requirement already satisfied: tqdm>=4.27 in /usr/local/lib/python3.10/dist-packages (from transformers) (4.66.1)\n",
      "Requirement already satisfied: fsspec>=2023.5.0 in /usr/local/lib/python3.10/dist-packages (from huggingface-hub<1.0,>=0.16.4->transformers) (2023.6.0)\n",
      "Requirement already satisfied: typing-extensions>=3.7.4.3 in /usr/local/lib/python3.10/dist-packages (from huggingface-hub<1.0,>=0.16.4->transformers) (4.5.0)\n",
      "Requirement already satisfied: charset-normalizer<4,>=2 in /usr/local/lib/python3.10/dist-packages (from requests->transformers) (3.3.2)\n",
      "Requirement already satisfied: idna<4,>=2.5 in /usr/local/lib/python3.10/dist-packages (from requests->transformers) (3.4)\n",
      "Requirement already satisfied: urllib3<3,>=1.21.1 in /usr/local/lib/python3.10/dist-packages (from requests->transformers) (2.0.7)\n",
      "Requirement already satisfied: certifi>=2017.4.17 in /usr/local/lib/python3.10/dist-packages (from requests->transformers) (2023.7.22)\n"
     ]
    }
   ],
   "source": [
    "!pip install -U accelerate\n",
    "!pip install -U transformers"
   ]
  },
  {
   "cell_type": "code",
   "execution_count": null,
   "id": "hRzX9ZZcY5Ou",
   "metadata": {
    "id": "hRzX9ZZcY5Ou"
   },
   "outputs": [],
   "source": [
    "#import os\n",
    "#os._exit(00)"
   ]
  },
  {
   "cell_type": "code",
   "execution_count": 1,
   "id": "pRMCnLGFU3D-",
   "metadata": {
    "id": "pRMCnLGFU3D-"
   },
   "outputs": [],
   "source": [
    "import pandas as pd\n",
    "import numpy as np\n",
    "import random\n",
    "import torch\n",
    "import transformers\n",
    "import torch.nn as nn\n",
    "from transformers import AutoModel, BertTokenizer, BertForSequenceClassification\n",
    "from transformers import TrainingArguments, Trainer\n",
    "from sklearn.metrics import classification_report, f1_score"
   ]
  },
  {
   "cell_type": "code",
   "execution_count": 2,
   "id": "bOoCc1NPWbSZ",
   "metadata": {
    "id": "bOoCc1NPWbSZ"
   },
   "outputs": [],
   "source": [
    "class Data(torch.utils.data.Dataset):\n",
    "        def __init__(self, encodings, labels):\n",
    "            self.encodings = encodings\n",
    "            self.labels = labels\n",
    "\n",
    "        def __getitem__(self, idx):\n",
    "            item = {k: torch.tensor(v[idx]) for k, v in self.encodings.items()}\n",
    "            item[\"labels\"] = torch.tensor([self.labels[idx]])\n",
    "            return item\n",
    "        def __len__(self):\n",
    "            return len(self.labels)\n",
    "\n",
    "def get_prediction(trainer,test_dataset):\n",
    "        test_pred = trainer.predict(test_dataset)\n",
    "        labels = np.argmax(test_pred.predictions, axis = -1)\n",
    "        return labels\n",
    "\n",
    "def compute_metrics(pred):\n",
    "    labels = pred.label_ids\n",
    "    preds = pred.predictions.argmax(-1)\n",
    "    s=0\n",
    "    for i in range(len(preds)):\n",
    "        if(labels[i]==1 and preds[i]==1):\n",
    "            s+=10\n",
    "        elif(labels[i]==0 and preds[i]==0):\n",
    "            s+=5\n",
    "        elif(labels[i]==0 and preds[i]==1):\n",
    "            s+=1\n",
    "        else: s+=0\n",
    "    return {'Our metrics': (s/10)/len(preds)}\n",
    "\n",
    "def get_ans_from_opr_model(list_of_test_texts):\n",
    "    model_path = \"/content/drive/MyDrive/hack/opr_model\"\n",
    "    model = BertForSequenceClassification.from_pretrained(model_path, num_labels=2)\n",
    "    tokenizer = BertTokenizer.from_pretrained(model_path)\n",
    "    training_args = TrainingArguments(output_dir = './results', #Выходной каталог\n",
    "                                    num_train_epochs = 1, #Кол-во эпох для обучения\n",
    "                                    per_device_train_batch_size = 20, #Размер пакета для каждого устройства во время обучения\n",
    "                                    per_device_eval_batch_size = 20, #Размер пакета для каждого устройства во время валидации\n",
    "                                    weight_decay =0.01, #Понижение весов\n",
    "                                    logging_dir = './logs', #Каталог для хранения журналов\n",
    "                                    load_best_model_at_end = True, #Загружать ли лучшую модель после обучения\n",
    "                                    learning_rate = 1e-5, #Скорость обучения\n",
    "                                    evaluation_strategy ='epoch', #Валидация после каждой эпохи (можно сделать после конкретного кол-ва шагов)\n",
    "                                    logging_strategy = 'epoch', #Логирование после каждой эпохи\n",
    "                                    save_strategy = 'epoch', #Сохранение после каждой эпохи\n",
    "                                    save_total_limit = 1,\n",
    "                                    seed=21)\n",
    "\n",
    "    tester = Trainer(model=model,\n",
    "                    tokenizer = tokenizer,\n",
    "                    args = training_args)\n",
    "\n",
    "    max_seq_len=100\n",
    "    tokens_test = tokenizer.batch_encode_plus(\n",
    "        list_of_test_texts,\n",
    "        max_length = max_seq_len,\n",
    "        padding = 'max_length',\n",
    "        truncation = True\n",
    "    )\n",
    "\n",
    "    test_dataset = Data(tokens_test, [1]*len(list_of_test_texts))\n",
    "\n",
    "    return get_prediction(tester, test_dataset)\n",
    "\n",
    "def get_oprs_from_list(list_of_sentances):\n",
    "  pred = get_ans_from_opr_model(list_of_sentances)\n",
    "  out=[]\n",
    "  for i in range(len(pred)):\n",
    "    if pred[i]: out.append(list_of_sentances[i])\n",
    "  return out"
   ]
  },
  {
   "cell_type": "code",
   "execution_count": 16,
   "id": "y8Z7PTShZ3t-",
   "metadata": {
    "colab": {
     "base_uri": "https://localhost:8080/",
     "height": 415
    },
    "id": "y8Z7PTShZ3t-",
    "outputId": "32c20270-b1e0-4df8-84c7-8133ccfc9fc5"
   },
   "outputs": [
    {
     "data": {
      "text/html": [],
      "text/plain": [
       "<IPython.core.display.HTML object>"
      ]
     },
     "metadata": {},
     "output_type": "display_data"
    },
    {
     "data": {
      "text/plain": [
       "['Сетевые технологии - это технологии, которые позволяют создавать и использовать компьютерные сети для обмена информацией между различными устройствами',\n",
       " ' Определение CSS при процессоре — это программный подход к CSS.',\n",
       " ' Мы в переменную var3 записываем значение того, что нам вернёт функция input, а она нам вернёт то, что пользователь ведёт с командной строки.',\n",
       " 'Классический маркетинг можно разделить на шесть важных этапов.',\n",
       " 'Дистанционное зондирование Земли - это методы и технологии получения изображений поверхности Земли с помощью спутниковых систем или других средств',\n",
       " 'Киберпреступность - это преступления, связанные с использованием компьютерных технологий для нарушения прав собственности, личной информации и других прав человека',\n",
       " 'Сумерки — время между заходом и восходом солнца, когда небо постепенно переходит от дневного света к ночному',\n",
       " 'Эманация — процесс исхождения какого-либо свойства или качества из чего-либо другого',\n",
       " 'Демократия - это политический режим, в котором граждане имеют право принимать участие в управлении государством и контролировать действия правительства',\n",
       " 'Корпорация - это юридическое лицо, созданное для осуществления коммерческой деятельности и имеющее права и обязанности, аналогичные правам и обязанностям юридического лица',\n",
       " 'Брахиморфия — склонность к малоподвижному образу жизн',\n",
       " 'Инновация - это внедрение новых идей, технологий или продуктов в экономику или общество, которые приводят к улучшению качества жизни людей',\n",
       " 'Информационная безопасность - это комплекс мер, направленных на защиту информации от несанкционированного доступа, изменения или уничтожения',\n",
       " 'Драматическое искусство — искусство, которое включает в себя различные виды театральных представлений, такие как комедия, драма и трагедия',\n",
       " 'Геопространственная информация - это данные о географических объектах и явлениях, представленные в цифровой форме и используемые для принятия решений в различных отраслях',\n",
       " 'Социолингвистика - это отрасль лингвистики, изучающая связь между языком и обществом, а также изменения языка в зависимости от социальных факторов',\n",
       " 'Натюрморт — жанр изобразительного искусства, посвященный изображению неживых предметов',\n",
       " 'Гендерный подход - это подход, основанный на учете гендерных аспектов в решении социальных, экономических и политических проблем',\n",
       " 'Целлюлоза — полимерное соединение, которое содержится в древесине и растениях и используется для производства бумаги',\n",
       " 'Анфас — лицо человека, обращенное прямо перед собо',\n",
       " 'Ну и вторая формулировка, наиболее простая, это просто позиция элемента в массиве.',\n",
       " 'Геополитические процессы - это изменения политической обстановки на глобальной и региональной уровнях, вызванные экономическими, социальными и культурными факторами']"
      ]
     },
     "execution_count": 16,
     "metadata": {},
     "output_type": "execute_result"
    }
   ],
   "source": [
    "get_oprs_from_list(x_test)"
   ]
  },
  {
   "cell_type": "code",
   "execution_count": null,
   "id": "D4v6YiqJc0hJ",
   "metadata": {
    "id": "D4v6YiqJc0hJ"
   },
   "outputs": [],
   "source": []
  }
 ],
 "metadata": {
  "colab": {
   "provenance": []
  },
  "kernelspec": {
   "display_name": "Python 3 (ipykernel)",
   "language": "python",
   "name": "python3"
  },
  "language_info": {
   "codemirror_mode": {
    "name": "ipython",
    "version": 3
   },
   "file_extension": ".py",
   "mimetype": "text/x-python",
   "name": "python",
   "nbconvert_exporter": "python",
   "pygments_lexer": "ipython3",
   "version": "3.8.18"
  }
 },
 "nbformat": 4,
 "nbformat_minor": 5
}
